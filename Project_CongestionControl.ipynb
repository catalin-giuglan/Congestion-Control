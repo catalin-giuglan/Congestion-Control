{
 "cells": [
  {
   "cell_type": "markdown",
   "id": "bd77d5ac-b114-41fd-a58d-a736a16a2019",
   "metadata": {
    "tags": []
   },
   "source": [
    "# Proiect Congestion Control\n",
    "\n",
    "Vom folosi acest notebook pentru vizualizarea comportamentului algoritmului implementat. Pentru realizarea graficelor aferent este folosita biblioteca `matplotlib`. In Jupyter comenzile precedate de `!` sunt rulate din bash. Punctajul acordat este calculat pe trei categorii: throughput, latency si fariness.\n",
    "\n",
    "> Vom considera MSS = 1500 bytes"
   ]
  },
  {
   "cell_type": "markdown",
   "id": "e7d55043-9cc1-4d34-894a-11ec9f147e32",
   "metadata": {
    "tags": []
   },
   "source": [
    "### Inainte de a rula simulatorul\n",
    "\n",
    "Vom folosi matplotlib pentru a realiza graficele. Rezultatele rularii simulatorului se vor gasi in directorul `tmp`."
   ]
  },
  {
   "cell_type": "code",
   "execution_count": 2,
   "id": "2b0bf690-edb6-4a5e-8678-f29262a97e09",
   "metadata": {
    "tags": []
   },
   "outputs": [
    {
     "name": "stdout",
     "output_type": "stream",
     "text": [
      "Defaulting to user installation because normal site-packages is not writeable\n",
      "Requirement already satisfied: matplotlib in /home/catalin/.local/lib/python3.10/site-packages (3.9.0)\n",
      "Requirement already satisfied: contourpy>=1.0.1 in /home/catalin/.local/lib/python3.10/site-packages (from matplotlib) (1.2.1)\n",
      "Requirement already satisfied: cycler>=0.10 in /home/catalin/.local/lib/python3.10/site-packages (from matplotlib) (0.12.1)\n",
      "Requirement already satisfied: fonttools>=4.22.0 in /home/catalin/.local/lib/python3.10/site-packages (from matplotlib) (4.52.1)\n",
      "Requirement already satisfied: kiwisolver>=1.3.1 in /home/catalin/.local/lib/python3.10/site-packages (from matplotlib) (1.4.5)\n",
      "Requirement already satisfied: numpy>=1.23 in /home/catalin/.local/lib/python3.10/site-packages (from matplotlib) (1.24.3)\n",
      "Requirement already satisfied: packaging>=20.0 in /home/catalin/.local/lib/python3.10/site-packages (from matplotlib) (24.0)\n",
      "Requirement already satisfied: pillow>=8 in /home/catalin/.local/lib/python3.10/site-packages (from matplotlib) (9.5.0)\n",
      "Requirement already satisfied: pyparsing>=2.3.1 in /usr/lib/python3/dist-packages (from matplotlib) (2.4.7)\n",
      "Requirement already satisfied: python-dateutil>=2.7 in /home/catalin/.local/lib/python3.10/site-packages (from matplotlib) (2.9.0.post0)\n",
      "Requirement already satisfied: six>=1.5 in /usr/lib/python3/dist-packages (from python-dateutil>=2.7->matplotlib) (1.16.0)\n",
      "\u001b[33mDEPRECATION: distro-info 1.1build1 has a non-standard version number. pip 24.1 will enforce this behaviour change. A possible replacement is to upgrade to a newer version of distro-info or contact the author to suggest that they release a version with a conforming version number. Discussion can be found at https://github.com/pypa/pip/issues/12063\u001b[0m\u001b[33m\n",
      "\u001b[0mNote: you may need to restart the kernel to use updated packages.\n"
     ]
    }
   ],
   "source": [
    "pip install matplotlib"
   ]
  },
  {
   "cell_type": "code",
   "execution_count": 3,
   "id": "d67010a9-8746-4c0f-b3ab-ee80e2770ee9",
   "metadata": {
    "tags": []
   },
   "outputs": [],
   "source": [
    "# Note: comenzile prefixate cu ! sunt rulate in Bash, nu in Python!\n",
    "!mkdir -p tmp/t"
   ]
  },
  {
   "cell_type": "code",
   "execution_count": 4,
   "id": "9c76316b-4366-4135-9972-e15e95e097ae",
   "metadata": {
    "tags": []
   },
   "outputs": [
    {
     "name": "stdout",
     "output_type": "stream",
     "text": [
      "ceva4\n"
     ]
    }
   ],
   "source": [
    "# O sa intalnim des apelul functiei format pe un string. Aceasta este similara cu %s sau %d in printf.\n",
    "\n",
    "string = \"ceva{}\".format(4)\n",
    "print(string)"
   ]
  },
  {
   "cell_type": "markdown",
   "id": "52d64a19-5af2-4f63-afdf-013e178c566c",
   "metadata": {
    "tags": []
   },
   "source": [
    "### Cod pentru desenarea graficelor"
   ]
  },
  {
   "cell_type": "code",
   "execution_count": 5,
   "id": "cc08d834-19cd-41cf-82f4-b25cfb36ceea",
   "metadata": {
    "tags": []
   },
   "outputs": [],
   "source": [
    "import matplotlib.pyplot as plt\n",
    "\n",
    "# Fiecare fisier .dat dim tmp contine date despre o conexiune. Acestea au urmatorul format:\n",
    "# 0.100000000 Type CC_SINK ID 0 Ev RATE CAck 3643500 CWND 1776791 Rate 36435000\n",
    "# De exemplu la indexul 0 se afla timestamp-ul, iar la indexul 12 throughput-ul\n",
    "\n",
    "def plot_generic(axs, index_f1, index_f2, ylabel, xlabel, scale_y, num_cons, data_folder=\"tmp/t/\"):\n",
    "    for i in range(num_cons):\n",
    "        x1, y1 = [], []\n",
    "        # Citeste throughput-ul din fisierul aferent conexiunii i\n",
    "        with open(\"{}{}.dat\".format(data_folder, i)) as f:\n",
    "            for line in f:\n",
    "                values = line.split()\n",
    "                x1.append(float(values[index_f1]))\n",
    "                y1.append(float(values[index_f2]) * scale_y)\n",
    "        axs.plot(x1, y1, '-', label='Conn {}'.format(i))\n",
    "        axs.legend()\n",
    "    \n",
    "def plot_throughput(axs, num_cons):\n",
    "    axs.set_ylabel('Throughput (Mbps)')\n",
    "    axs.set_xlabel('Time (s)')\n",
    "    # Valorile din fisieri sunt in byes asa ca le inmultim cu 8/1000000 ca sa trecem in Mb/s\n",
    "    plot_generic(axs, 0, 12, 'Throughput', 'Time (s)', 8 / 1000000, num_cons)\n",
    "\n",
    "def plot_cwnd(axs, num_cons):\n",
    "    axs.set_ylabel('CWND (MSS)')\n",
    "    axs.set_xlabel('Time (s)')\n",
    "    plot_generic(axs, 0, 10, 'CWND (MSS)', 'Time (s)', 1/1500, num_cons)\n",
    "\n",
    "def plot_router_queue(axs, max_queue_size, data_folder=\"tmp/t/\"):\n",
    "    axs.set_ylabel('Packets in Queue (MSS) ')\n",
    "    axs.set_xlabel('Time (s)')\n",
    "    x1, y1 = [], []\n",
    "    with open(\"{}q.dat\".format(data_folder)) as f:\n",
    "        for line in f:\n",
    "            values = line.split()\n",
    "            x1.append(float(values[0]))\n",
    "            y1.append(float(values[12]) * 1/1500)\n",
    "        \n",
    "        axs.hlines(y=max_queue_size, xmin=0, xmax=x1[-1], linewidth=2, color='r')\n",
    "        axs.plot(x1, y1, '-')    "
   ]
  },
  {
   "cell_type": "markdown",
   "id": "eda82773-bd53-4bd6-b167-8a2eb84249d4",
   "metadata": {
    "tags": []
   },
   "source": [
    "### Masurarea performantei algoritmului de congestion control\n",
    "\n",
    "Urmatoarele celule compileaza si ruleaza simulatorul. Ulterior vom folosii functile definite in sectiunile precedente pentru a realiza graficele valorilor CWND, viteza de transmisie, fairness, coada de pachete din router etc. Acestea ne vor ajuta in a intelege performanta protocolului nostru."
   ]
  },
  {
   "cell_type": "code",
   "execution_count": 6,
   "id": "af765fa3-375b-495c-8a6d-bf0bdcaae190",
   "metadata": {
    "tags": []
   },
   "outputs": [
    {
     "name": "stdout",
     "output_type": "stream",
     "text": [
      "ar: `u' modifier ignored since `D' is the default (see `U')\n",
      "r - libhtsim/eventlist.o\n",
      "r - libhtsim/tcppacket.o\n",
      "r - libhtsim/pipe.o\n",
      "r - libhtsim/queue.o\n",
      "r - libhtsim/queue_lossless.o\n",
      "r - libhtsim/queue_lossless_input.o\n",
      "r - libhtsim/queue_lossless_output.o\n",
      "r - libhtsim/ecnqueue.o\n",
      "r - libhtsim/tcp.o\n",
      "r - libhtsim/dctcp.o\n",
      "r - libhtsim/mtcp.o\n",
      "r - libhtsim/loggers.o\n",
      "r - libhtsim/logfile.o\n",
      "r - libhtsim/clock.o\n",
      "r - libhtsim/config.o\n",
      "r - libhtsim/network.o\n",
      "r - libhtsim/qcn.o\n",
      "r - libhtsim/exoqueue.o\n",
      "r - libhtsim/randomqueue.o\n",
      "r - libhtsim/cbr.o\n",
      "r - libhtsim/cbrpacket.o\n",
      "r - libhtsim/sent_packets.o\n",
      "r - libhtsim/ndp.o\n",
      "r - libhtsim/ndppacket.o\n",
      "r - libhtsim/eth_pause_packet.o\n",
      "r - libhtsim/tcp_transfer.o\n",
      "r - libhtsim/tcp_periodic.o\n",
      "r - libhtsim/compositequeue.o\n",
      "r - libhtsim/prioqueue.o\n",
      "r - libhtsim/cpqueue.o\n",
      "r - libhtsim/ndp_transfer.o\n",
      "r - libhtsim/compositeprioqueue.o\n",
      "r - libhtsim/switch.o\n",
      "r - libhtsim/dctcp_transfer.o\n",
      "r - libhtsim/fairpullqueue.o\n",
      "r - libhtsim/route.o\n",
      "r - libhtsim/ndptunnel.o\n",
      "r - libhtsim/ndptunnelpacket.o\n",
      "r - libhtsim/ccpacket.o\n",
      "r - libhtsim/cc_project.o\n",
      "r - cc.o\n",
      "no_of_conns 3\n",
      "endtime(ms) 20000\n",
      "Log interval set to 100ms\n",
      "Queue size set to 800\n",
      "Latency set to 5\n",
      "Start delta to 5000ms\n",
      "Outputting to logout.dat\n",
      "CCSinkLoggerSampling(p=0.1 init \n",
      "Start flow CCsrc 0 at 0s\n",
      ".........Start flow CCsrc 1 at 5s\n",
      ".|........Start flow CCsrc 2 at 10s\n",
      "..|..........|......./scripts/parse.sh: line 2: $'\\r': command not found\n",
      "./scripts/parse.sh: line 6: $'\\r': command not found\n",
      ": No such file or directory tmp/t/\n",
      "sort: fflush failed: 'standard output': Broken pipe\n",
      "sort: write error\n",
      "' for reading: No such file or directoryipts/parse_bw.awk\n",
      "grep: write error: Broken pipe\n",
      "./scripts/parse.sh: line 9: $'\\r': command not found\n",
      ": No such file or directory: tmp/t/\n",
      "grep: write error: Broken pipe\n",
      "grep: write error: Broken pipe\n"
     ]
    }
   ],
   "source": [
    "# Inainte de a rula o simulare, vom chema make\n",
    "!make -s\n",
    "\n",
    "# Rulam simulatorul (vezi main_dumbell_cc.cpp)\n",
    "# -cons numarul de conexiuni\n",
    "# -end (ms) timpul de rulare al experimentului\n",
    "# -latency (ms) latenta link-urilor\n",
    "# -q dimensiunea cozii in MSS\n",
    "# -startdelta (ms) de la ce timp sa porneasca o noua conexiune\n",
    "# -log (ms) intervalul la care se fac masuratori pentrum cwnd\n",
    "# -bandwidth (mbps) seteaza bandwidth-ul linkurilor\n",
    "num_cons = 3\n",
    "router_queue_size = 800\n",
    "# Rulam simulatorul din bash. ./scripts/parse.sh logout.dat parseaza rezultatele si le scrie in format human readable in folder-ul \n",
    "! ./htsim_dumbell_cc -conns {num_cons} -end 20000 -log 100 -q {router_queue_size} -latency 5 -startdelta 5000; ./scripts/parse.sh logout.dat tmp/t/"
   ]
  },
  {
   "cell_type": "code",
   "execution_count": 7,
   "id": "9e70532f-61ce-4303-a873-bbfac4fa1407",
   "metadata": {
    "tags": []
   },
   "outputs": [
    {
     "ename": "FileNotFoundError",
     "evalue": "[Errno 2] No such file or directory: 'tmp/t/0.dat'",
     "output_type": "error",
     "traceback": [
      "\u001b[0;31m---------------------------------------------------------------------------\u001b[0m",
      "\u001b[0;31mFileNotFoundError\u001b[0m                         Traceback (most recent call last)",
      "Cell \u001b[0;32mIn[7], line 4\u001b[0m\n\u001b[1;32m      1\u001b[0m \u001b[38;5;66;03m# Deseneaza graficele pentru throughput is cwnd. Figsize poate fi modificat pentru a schimba dimensiunea figurilor.\u001b[39;00m\n\u001b[1;32m      2\u001b[0m fig, axs \u001b[38;5;241m=\u001b[39m plt\u001b[38;5;241m.\u001b[39msubplots(ncols\u001b[38;5;241m=\u001b[39m\u001b[38;5;241m2\u001b[39m, figsize\u001b[38;5;241m=\u001b[39m(\u001b[38;5;241m18\u001b[39m, \u001b[38;5;241m8\u001b[39m))\n\u001b[0;32m----> 4\u001b[0m \u001b[43mplot_throughput\u001b[49m\u001b[43m(\u001b[49m\u001b[43maxs\u001b[49m\u001b[43m[\u001b[49m\u001b[38;5;241;43m0\u001b[39;49m\u001b[43m]\u001b[49m\u001b[43m,\u001b[49m\u001b[43m \u001b[49m\u001b[43mnum_cons\u001b[49m\u001b[43m)\u001b[49m\n\u001b[1;32m      5\u001b[0m plot_cwnd(axs[\u001b[38;5;241m1\u001b[39m], num_cons)\n\u001b[1;32m      6\u001b[0m plt\u001b[38;5;241m.\u001b[39mshow()\n",
      "Cell \u001b[0;32mIn[5], line 23\u001b[0m, in \u001b[0;36mplot_throughput\u001b[0;34m(axs, num_cons)\u001b[0m\n\u001b[1;32m     21\u001b[0m axs\u001b[38;5;241m.\u001b[39mset_xlabel(\u001b[38;5;124m'\u001b[39m\u001b[38;5;124mTime (s)\u001b[39m\u001b[38;5;124m'\u001b[39m)\n\u001b[1;32m     22\u001b[0m \u001b[38;5;66;03m# Valorile din fisieri sunt in byes asa ca le inmultim cu 8/1000000 ca sa trecem in Mb/s\u001b[39;00m\n\u001b[0;32m---> 23\u001b[0m \u001b[43mplot_generic\u001b[49m\u001b[43m(\u001b[49m\u001b[43maxs\u001b[49m\u001b[43m,\u001b[49m\u001b[43m \u001b[49m\u001b[38;5;241;43m0\u001b[39;49m\u001b[43m,\u001b[49m\u001b[43m \u001b[49m\u001b[38;5;241;43m12\u001b[39;49m\u001b[43m,\u001b[49m\u001b[43m \u001b[49m\u001b[38;5;124;43m'\u001b[39;49m\u001b[38;5;124;43mThroughput\u001b[39;49m\u001b[38;5;124;43m'\u001b[39;49m\u001b[43m,\u001b[49m\u001b[43m \u001b[49m\u001b[38;5;124;43m'\u001b[39;49m\u001b[38;5;124;43mTime (s)\u001b[39;49m\u001b[38;5;124;43m'\u001b[39;49m\u001b[43m,\u001b[49m\u001b[43m \u001b[49m\u001b[38;5;241;43m8\u001b[39;49m\u001b[43m \u001b[49m\u001b[38;5;241;43m/\u001b[39;49m\u001b[43m \u001b[49m\u001b[38;5;241;43m1000000\u001b[39;49m\u001b[43m,\u001b[49m\u001b[43m \u001b[49m\u001b[43mnum_cons\u001b[49m\u001b[43m)\u001b[49m\n",
      "Cell \u001b[0;32mIn[5], line 11\u001b[0m, in \u001b[0;36mplot_generic\u001b[0;34m(axs, index_f1, index_f2, ylabel, xlabel, scale_y, num_cons, data_folder)\u001b[0m\n\u001b[1;32m      9\u001b[0m x1, y1 \u001b[38;5;241m=\u001b[39m [], []\n\u001b[1;32m     10\u001b[0m \u001b[38;5;66;03m# Citeste throughput-ul din fisierul aferent conexiunii i\u001b[39;00m\n\u001b[0;32m---> 11\u001b[0m \u001b[38;5;28;01mwith\u001b[39;00m \u001b[38;5;28;43mopen\u001b[39;49m\u001b[43m(\u001b[49m\u001b[38;5;124;43m\"\u001b[39;49m\u001b[38;5;132;43;01m{}\u001b[39;49;00m\u001b[38;5;132;43;01m{}\u001b[39;49;00m\u001b[38;5;124;43m.dat\u001b[39;49m\u001b[38;5;124;43m\"\u001b[39;49m\u001b[38;5;241;43m.\u001b[39;49m\u001b[43mformat\u001b[49m\u001b[43m(\u001b[49m\u001b[43mdata_folder\u001b[49m\u001b[43m,\u001b[49m\u001b[43m \u001b[49m\u001b[43mi\u001b[49m\u001b[43m)\u001b[49m\u001b[43m)\u001b[49m \u001b[38;5;28;01mas\u001b[39;00m f:\n\u001b[1;32m     12\u001b[0m     \u001b[38;5;28;01mfor\u001b[39;00m line \u001b[38;5;129;01min\u001b[39;00m f:\n\u001b[1;32m     13\u001b[0m         values \u001b[38;5;241m=\u001b[39m line\u001b[38;5;241m.\u001b[39msplit()\n",
      "File \u001b[0;32m~/.local/lib/python3.10/site-packages/IPython/core/interactiveshell.py:324\u001b[0m, in \u001b[0;36m_modified_open\u001b[0;34m(file, *args, **kwargs)\u001b[0m\n\u001b[1;32m    317\u001b[0m \u001b[38;5;28;01mif\u001b[39;00m file \u001b[38;5;129;01min\u001b[39;00m {\u001b[38;5;241m0\u001b[39m, \u001b[38;5;241m1\u001b[39m, \u001b[38;5;241m2\u001b[39m}:\n\u001b[1;32m    318\u001b[0m     \u001b[38;5;28;01mraise\u001b[39;00m \u001b[38;5;167;01mValueError\u001b[39;00m(\n\u001b[1;32m    319\u001b[0m         \u001b[38;5;124mf\u001b[39m\u001b[38;5;124m\"\u001b[39m\u001b[38;5;124mIPython won\u001b[39m\u001b[38;5;124m'\u001b[39m\u001b[38;5;124mt let you open fd=\u001b[39m\u001b[38;5;132;01m{\u001b[39;00mfile\u001b[38;5;132;01m}\u001b[39;00m\u001b[38;5;124m by default \u001b[39m\u001b[38;5;124m\"\u001b[39m\n\u001b[1;32m    320\u001b[0m         \u001b[38;5;124m\"\u001b[39m\u001b[38;5;124mas it is likely to crash IPython. If you know what you are doing, \u001b[39m\u001b[38;5;124m\"\u001b[39m\n\u001b[1;32m    321\u001b[0m         \u001b[38;5;124m\"\u001b[39m\u001b[38;5;124myou can use builtins\u001b[39m\u001b[38;5;124m'\u001b[39m\u001b[38;5;124m open.\u001b[39m\u001b[38;5;124m\"\u001b[39m\n\u001b[1;32m    322\u001b[0m     )\n\u001b[0;32m--> 324\u001b[0m \u001b[38;5;28;01mreturn\u001b[39;00m \u001b[43mio_open\u001b[49m\u001b[43m(\u001b[49m\u001b[43mfile\u001b[49m\u001b[43m,\u001b[49m\u001b[43m \u001b[49m\u001b[38;5;241;43m*\u001b[39;49m\u001b[43margs\u001b[49m\u001b[43m,\u001b[49m\u001b[43m \u001b[49m\u001b[38;5;241;43m*\u001b[39;49m\u001b[38;5;241;43m*\u001b[39;49m\u001b[43mkwargs\u001b[49m\u001b[43m)\u001b[49m\n",
      "\u001b[0;31mFileNotFoundError\u001b[0m: [Errno 2] No such file or directory: 'tmp/t/0.dat'"
     ]
    },
    {
     "data": {
      "image/png": "[encoded data removed]",
      "text/plain": [
       "<Figure size 1800x800 with 2 Axes>"
      ]
     },
     "metadata": {},
     "output_type": "display_data"
    }
   ],
   "source": [
    "# Deseneaza graficele pentru throughput is cwnd. Figsize poate fi modificat pentru a schimba dimensiunea figurilor.\n",
    "fig, axs = plt.subplots(ncols=2, figsize=(18, 8))\n",
    "\n",
    "plot_throughput(axs[0], num_cons)\n",
    "plot_cwnd(axs[1], num_cons)\n",
    "plt.show()"
   ]
  },
  {
   "cell_type": "code",
   "execution_count": 8,
   "id": "f37510ee-7433-4629-97d3-eeb7ccac8b41",
   "metadata": {
    "tags": []
   },
   "outputs": [
    {
     "ename": "FileNotFoundError",
     "evalue": "[Errno 2] No such file or directory: 'tmp/t/q.dat'",
     "output_type": "error",
     "traceback": [
      "\u001b[0;31m---------------------------------------------------------------------------\u001b[0m",
      "\u001b[0;31mFileNotFoundError\u001b[0m                         Traceback (most recent call last)",
      "Cell \u001b[0;32mIn[8], line 4\u001b[0m\n\u001b[1;32m      1\u001b[0m \u001b[38;5;66;03m# Deseneaza dimensiunea cozii din router in MSS.\u001b[39;00m\n\u001b[1;32m      2\u001b[0m fig, axs \u001b[38;5;241m=\u001b[39m plt\u001b[38;5;241m.\u001b[39msubplots(ncols\u001b[38;5;241m=\u001b[39m\u001b[38;5;241m2\u001b[39m, figsize\u001b[38;5;241m=\u001b[39m(\u001b[38;5;241m18\u001b[39m, \u001b[38;5;241m8\u001b[39m))\n\u001b[0;32m----> 4\u001b[0m \u001b[43mplot_router_queue\u001b[49m\u001b[43m(\u001b[49m\u001b[43maxs\u001b[49m\u001b[43m[\u001b[49m\u001b[38;5;241;43m0\u001b[39;49m\u001b[43m]\u001b[49m\u001b[43m,\u001b[49m\u001b[43m \u001b[49m\u001b[43mrouter_queue_size\u001b[49m\u001b[43m)\u001b[49m\n\u001b[1;32m      5\u001b[0m plt\u001b[38;5;241m.\u001b[39mshow()\n",
      "Cell \u001b[0;32mIn[5], line 34\u001b[0m, in \u001b[0;36mplot_router_queue\u001b[0;34m(axs, max_queue_size, data_folder)\u001b[0m\n\u001b[1;32m     32\u001b[0m axs\u001b[38;5;241m.\u001b[39mset_xlabel(\u001b[38;5;124m'\u001b[39m\u001b[38;5;124mTime (s)\u001b[39m\u001b[38;5;124m'\u001b[39m)\n\u001b[1;32m     33\u001b[0m x1, y1 \u001b[38;5;241m=\u001b[39m [], []\n\u001b[0;32m---> 34\u001b[0m \u001b[38;5;28;01mwith\u001b[39;00m \u001b[38;5;28;43mopen\u001b[39;49m\u001b[43m(\u001b[49m\u001b[38;5;124;43m\"\u001b[39;49m\u001b[38;5;132;43;01m{}\u001b[39;49;00m\u001b[38;5;124;43mq.dat\u001b[39;49m\u001b[38;5;124;43m\"\u001b[39;49m\u001b[38;5;241;43m.\u001b[39;49m\u001b[43mformat\u001b[49m\u001b[43m(\u001b[49m\u001b[43mdata_folder\u001b[49m\u001b[43m)\u001b[49m\u001b[43m)\u001b[49m \u001b[38;5;28;01mas\u001b[39;00m f:\n\u001b[1;32m     35\u001b[0m     \u001b[38;5;28;01mfor\u001b[39;00m line \u001b[38;5;129;01min\u001b[39;00m f:\n\u001b[1;32m     36\u001b[0m         values \u001b[38;5;241m=\u001b[39m line\u001b[38;5;241m.\u001b[39msplit()\n",
      "File \u001b[0;32m~/.local/lib/python3.10/site-packages/IPython/core/interactiveshell.py:324\u001b[0m, in \u001b[0;36m_modified_open\u001b[0;34m(file, *args, **kwargs)\u001b[0m\n\u001b[1;32m    317\u001b[0m \u001b[38;5;28;01mif\u001b[39;00m file \u001b[38;5;129;01min\u001b[39;00m {\u001b[38;5;241m0\u001b[39m, \u001b[38;5;241m1\u001b[39m, \u001b[38;5;241m2\u001b[39m}:\n\u001b[1;32m    318\u001b[0m     \u001b[38;5;28;01mraise\u001b[39;00m \u001b[38;5;167;01mValueError\u001b[39;00m(\n\u001b[1;32m    319\u001b[0m         \u001b[38;5;124mf\u001b[39m\u001b[38;5;124m\"\u001b[39m\u001b[38;5;124mIPython won\u001b[39m\u001b[38;5;124m'\u001b[39m\u001b[38;5;124mt let you open fd=\u001b[39m\u001b[38;5;132;01m{\u001b[39;00mfile\u001b[38;5;132;01m}\u001b[39;00m\u001b[38;5;124m by default \u001b[39m\u001b[38;5;124m\"\u001b[39m\n\u001b[1;32m    320\u001b[0m         \u001b[38;5;124m\"\u001b[39m\u001b[38;5;124mas it is likely to crash IPython. If you know what you are doing, \u001b[39m\u001b[38;5;124m\"\u001b[39m\n\u001b[1;32m    321\u001b[0m         \u001b[38;5;124m\"\u001b[39m\u001b[38;5;124myou can use builtins\u001b[39m\u001b[38;5;124m'\u001b[39m\u001b[38;5;124m open.\u001b[39m\u001b[38;5;124m\"\u001b[39m\n\u001b[1;32m    322\u001b[0m     )\n\u001b[0;32m--> 324\u001b[0m \u001b[38;5;28;01mreturn\u001b[39;00m \u001b[43mio_open\u001b[49m\u001b[43m(\u001b[49m\u001b[43mfile\u001b[49m\u001b[43m,\u001b[49m\u001b[43m \u001b[49m\u001b[38;5;241;43m*\u001b[39;49m\u001b[43margs\u001b[49m\u001b[43m,\u001b[49m\u001b[43m \u001b[49m\u001b[38;5;241;43m*\u001b[39;49m\u001b[38;5;241;43m*\u001b[39;49m\u001b[43mkwargs\u001b[49m\u001b[43m)\u001b[49m\n",
      "\u001b[0;31mFileNotFoundError\u001b[0m: [Errno 2] No such file or directory: 'tmp/t/q.dat'"
     ]
    },
    {
     "data": {
      "image/png": "[encoded data removed]",
      "text/plain": [
       "<Figure size 1800x800 with 2 Axes>"
      ]
     },
     "metadata": {},
     "output_type": "display_data"
    }
   ],
   "source": [
    "# Deseneaza dimensiunea cozii din router in MSS.\n",
    "fig, axs = plt.subplots(ncols=2, figsize=(18, 8))\n",
    "\n",
    "plot_router_queue(axs[0], router_queue_size)\n",
    "plt.show()"
   ]
  },
  {
   "cell_type": "markdown",
   "id": "95d9223b-2a98-4d05-85f7-7353cd9606e7",
   "metadata": {
    "tags": []
   },
   "source": [
    "## Masurarea performantei pentru clasamentul pe serie\n",
    "\n",
    "Pentru a face distinctia intre implementari, vom acorda un scor de performanta algoritmului. Scorul este impartit in 3 categorii:\n",
    "\n",
    "* thrghouput (300p)\n",
    "* fairness (300p)\n",
    "* latenta (300p)"
   ]
  },
  {
   "cell_type": "code",
   "execution_count": 9,
   "id": "d190b696-cd22-410a-b276-4b7c4b031b13",
   "metadata": {
    "tags": []
   },
   "outputs": [],
   "source": [
    "# Functii helper folosite pentru a calcula valori precum average thrghouput\n",
    "import math\n",
    "\n",
    "# Calcuelaza average-ul dintr-o coloana dintr-un fisier .dat\n",
    "def avg_col(data_path, col, scale):\n",
    "        x1 = []\n",
    "        with open(data_path) as f:\n",
    "            for line in f:\n",
    "                values = line.split()\n",
    "                x1.append(float(values[col]) * scale)\n",
    "        return sum(x1)/(len(x1))\n",
    "\n",
    "# Afiseaza throughput-ul pentru o conexiune si traseazao linie orizontala la valoarea ideala.\n",
    "def plot_throughput2(axs, data_path, bandwidth):\n",
    "    axs.set_ylabel('Throughput (Mbps)')\n",
    "    axs.set_xlabel('Time (s)')\n",
    "    x1 = []\n",
    "    y1 = []\n",
    "    with open(data_path) as f:\n",
    "        for line in f:\n",
    "            values = line.split()\n",
    "            x1.append(float(values[0]))\n",
    "            y1.append(float(values[12]) * 8 / 1000000)\n",
    "            \n",
    "    axs.hlines(y=bandwidth, xmin=0, xmax=x1[-1], linewidth=2, color='r')\n",
    "    # Ca sa arata graficul mai bine, nu luam in considerare primele 4 tick-uri\n",
    "    axs.plot(x1[4:], y1[4:], '-')\n",
    "    \n",
    "# Afiseaza throughput-ul dintr-un anumit folder .dat\n",
    "def plot_throughput_from_data(axs, num_cons, data_folder):\n",
    "    axs.set_ylabel('Throughput (Mbps)')\n",
    "    axs.set_xlabel('Time (s)')\n",
    "    # Valorile din fisieri sunt in byes asa ca le inmultim cu 8/1000000 ca sa trecem in Mb/s\n",
    "    plot_generic(axs, 0, 12, 'Throughput', 'Time (s)', 8 / 1000000, num_cons, data_folder)"
   ]
  },
  {
   "cell_type": "markdown",
   "id": "236e12ef-4304-4a94-b209-8a5f7e6cc2d7",
   "metadata": {},
   "source": [
    "### Throughput (Viteza de transmisie)\n",
    "Ne intereseaza sa avem un averge thrghouput = BDP. Asta inseamna ca ar trebui sa ajungem \n"
   ]
  },
  {
   "cell_type": "code",
   "execution_count": 10,
   "id": "ff54c262-0a44-4437-962b-0fd672a92f5a",
   "metadata": {
    "tags": []
   },
   "outputs": [
    {
     "name": "stdout",
     "output_type": "stream",
     "text": [
      "no_of_conns 1\n",
      "endtime(ms) 20000\n",
      "Log interval set to 100ms\n",
      "Queue size set to 166\n",
      "Latency set to 0.1\n",
      "Bandwidth set to 10Mbps\n",
      "Outputting to logout.dat\n",
      "CCSinkLoggerSampling(p=0.1 init \n",
      "Start flow CCsrc 0 at 0s\n",
      "..........|..........|..........|......./scripts/parse.sh: line 2: $'\\r': command not found\n",
      "./scripts/parse.sh: line 6: $'\\r': command not found\n",
      ": No such file or directory tmp/thr0/\n",
      "sort: fflush failed: 'standard output': Broken pipe\n",
      "sort: write error\n",
      "' for reading: No such file or directoryipts/parse_bw.awk\n",
      "grep: write error: Broken pipe\n",
      "./scripts/parse.sh: line 9: $'\\r': command not found\n",
      ": No such file or directory: tmp/thr0/\n",
      "grep: write error: Broken pipe\n",
      "grep: write error: Broken pipe\n"
     ]
    },
    {
     "ename": "FileNotFoundError",
     "evalue": "[Errno 2] No such file or directory: 'tmp/thr0/0.dat'",
     "output_type": "error",
     "traceback": [
      "\u001b[0;31m---------------------------------------------------------------------------\u001b[0m",
      "\u001b[0;31mFileNotFoundError\u001b[0m                         Traceback (most recent call last)",
      "Cell \u001b[0;32mIn[10], line 17\u001b[0m\n\u001b[1;32m     15\u001b[0m     get_ipython()\u001b[38;5;241m.\u001b[39msystem(\u001b[38;5;124m'\u001b[39m\u001b[38;5;124mmkdir -p \u001b[39m\u001b[38;5;132;01m{data_folder}\u001b[39;00m\u001b[38;5;124m'\u001b[39m)\n\u001b[1;32m     16\u001b[0m     get_ipython()\u001b[38;5;241m.\u001b[39msystem(\u001b[38;5;124m'\u001b[39m\u001b[38;5;124m ./htsim_dumbell_cc -conns 1 -end 20000 -log 100 -q \u001b[39m\u001b[38;5;132;01m{queue_size_in_mss[i]}\u001b[39;00m\u001b[38;5;124m           -latency \u001b[39m\u001b[38;5;132;01m{latency[i]}\u001b[39;00m\u001b[38;5;124m -bandwidth \u001b[39m\u001b[38;5;132;01m{bandwidth[i]}\u001b[39;00m\u001b[38;5;124m; ./scripts/parse.sh logout.dat \u001b[39m\u001b[38;5;132;01m{data_folder}\u001b[39;00m\u001b[38;5;124m'\u001b[39m)\n\u001b[0;32m---> 17\u001b[0m     avg\u001b[38;5;241m.\u001b[39mappend(\u001b[43mavg_col\u001b[49m\u001b[43m(\u001b[49m\u001b[38;5;124;43m\"\u001b[39;49m\u001b[38;5;124;43mtmp/thr\u001b[39;49m\u001b[38;5;132;43;01m{}\u001b[39;49;00m\u001b[38;5;124;43m/0.dat\u001b[39;49m\u001b[38;5;124;43m\"\u001b[39;49m\u001b[38;5;241;43m.\u001b[39;49m\u001b[43mformat\u001b[49m\u001b[43m(\u001b[49m\u001b[43mi\u001b[49m\u001b[43m)\u001b[49m\u001b[43m,\u001b[49m\u001b[43m \u001b[49m\u001b[38;5;241;43m12\u001b[39;49m\u001b[43m,\u001b[49m\u001b[43m \u001b[49m\u001b[38;5;241;43m8\u001b[39;49m\u001b[43m \u001b[49m\u001b[38;5;241;43m/\u001b[39;49m\u001b[43m \u001b[49m\u001b[38;5;241;43m1000000\u001b[39;49m\u001b[43m)\u001b[49m)\n\u001b[1;32m     18\u001b[0m     \u001b[38;5;28mprint\u001b[39m(\u001b[38;5;124m\"\u001b[39m\u001b[38;5;130;01m\\n\u001b[39;00m\u001b[38;5;124m##### [RESULT] Average thrghouput \u001b[39m\u001b[38;5;132;01m{}\u001b[39;00m\u001b[38;5;124m vs \u001b[39m\u001b[38;5;132;01m{}\u001b[39;00m\u001b[38;5;124m expected\u001b[39m\u001b[38;5;124m\"\u001b[39m\u001b[38;5;241m.\u001b[39mformat(avg[i], bandwidth[i]))\n\u001b[1;32m     20\u001b[0m \u001b[38;5;66;03m# Calculeaza scorul pentru clasament. Acesta este media la cat am reusit sa acoperim din bandwidth in cele 3 scenarii.\u001b[39;00m\n",
      "Cell \u001b[0;32mIn[9], line 7\u001b[0m, in \u001b[0;36mavg_col\u001b[0;34m(data_path, col, scale)\u001b[0m\n\u001b[1;32m      5\u001b[0m \u001b[38;5;28;01mdef\u001b[39;00m \u001b[38;5;21mavg_col\u001b[39m(data_path, col, scale):\n\u001b[1;32m      6\u001b[0m         x1 \u001b[38;5;241m=\u001b[39m []\n\u001b[0;32m----> 7\u001b[0m         \u001b[38;5;28;01mwith\u001b[39;00m \u001b[38;5;28;43mopen\u001b[39;49m\u001b[43m(\u001b[49m\u001b[43mdata_path\u001b[49m\u001b[43m)\u001b[49m \u001b[38;5;28;01mas\u001b[39;00m f:\n\u001b[1;32m      8\u001b[0m             \u001b[38;5;28;01mfor\u001b[39;00m line \u001b[38;5;129;01min\u001b[39;00m f:\n\u001b[1;32m      9\u001b[0m                 values \u001b[38;5;241m=\u001b[39m line\u001b[38;5;241m.\u001b[39msplit()\n",
      "File \u001b[0;32m~/.local/lib/python3.10/site-packages/IPython/core/interactiveshell.py:324\u001b[0m, in \u001b[0;36m_modified_open\u001b[0;34m(file, *args, **kwargs)\u001b[0m\n\u001b[1;32m    317\u001b[0m \u001b[38;5;28;01mif\u001b[39;00m file \u001b[38;5;129;01min\u001b[39;00m {\u001b[38;5;241m0\u001b[39m, \u001b[38;5;241m1\u001b[39m, \u001b[38;5;241m2\u001b[39m}:\n\u001b[1;32m    318\u001b[0m     \u001b[38;5;28;01mraise\u001b[39;00m \u001b[38;5;167;01mValueError\u001b[39;00m(\n\u001b[1;32m    319\u001b[0m         \u001b[38;5;124mf\u001b[39m\u001b[38;5;124m\"\u001b[39m\u001b[38;5;124mIPython won\u001b[39m\u001b[38;5;124m'\u001b[39m\u001b[38;5;124mt let you open fd=\u001b[39m\u001b[38;5;132;01m{\u001b[39;00mfile\u001b[38;5;132;01m}\u001b[39;00m\u001b[38;5;124m by default \u001b[39m\u001b[38;5;124m\"\u001b[39m\n\u001b[1;32m    320\u001b[0m         \u001b[38;5;124m\"\u001b[39m\u001b[38;5;124mas it is likely to crash IPython. If you know what you are doing, \u001b[39m\u001b[38;5;124m\"\u001b[39m\n\u001b[1;32m    321\u001b[0m         \u001b[38;5;124m\"\u001b[39m\u001b[38;5;124myou can use builtins\u001b[39m\u001b[38;5;124m'\u001b[39m\u001b[38;5;124m open.\u001b[39m\u001b[38;5;124m\"\u001b[39m\n\u001b[1;32m    322\u001b[0m     )\n\u001b[0;32m--> 324\u001b[0m \u001b[38;5;28;01mreturn\u001b[39;00m \u001b[43mio_open\u001b[49m\u001b[43m(\u001b[49m\u001b[43mfile\u001b[49m\u001b[43m,\u001b[49m\u001b[43m \u001b[49m\u001b[38;5;241;43m*\u001b[39;49m\u001b[43margs\u001b[49m\u001b[43m,\u001b[49m\u001b[43m \u001b[49m\u001b[38;5;241;43m*\u001b[39;49m\u001b[38;5;241;43m*\u001b[39;49m\u001b[43mkwargs\u001b[49m\u001b[43m)\u001b[49m\n",
      "\u001b[0;31mFileNotFoundError\u001b[0m: [Errno 2] No such file or directory: 'tmp/thr0/0.dat'"
     ]
    }
   ],
   "source": [
    "# Urmatoarele trei verifica daca algoritmul de congestie foloseste banda intr-un mod optim\n",
    "\n",
    "# Vom masura rata de transmisie in diferite combinatii de throughput si latency. Coada de pachete din router are dimensiunea BDP-ului.\n",
    "MSS = 1500 # in bytes\n",
    "latency = [0.1, 1, 10] # ms\n",
    "bandwidth = [10, 100, 1000] # Mbs\n",
    "bdp = [ (i * j * 2 ) for i, j in zip(latency, bandwidth)]\n",
    "queue_size_in_mss = [ int(i * 1000000 / (1500 * 8)) for i in bdp]\n",
    "avg = []\n",
    "\n",
    "# Rulam pentru trei scenarii diferite\n",
    "for i in range(3):\n",
    "    data_folder = \"tmp/thr{}/\".format(i)\n",
    "    # Creeaza directorul in care vom salva rezultatele simularii\n",
    "    !mkdir -p {data_folder}\n",
    "    ! ./htsim_dumbell_cc -conns 1 -end 20000 -log 100 -q {queue_size_in_mss[i]} \\\n",
    "         -latency {latency[i]} -bandwidth {bandwidth[i]}; ./scripts/parse.sh logout.dat {data_folder}\n",
    "    avg.append(avg_col(\"tmp/thr{}/0.dat\".format(i), 12, 8 / 1000000))\n",
    "    print(\"\\n##### [RESULT] Average thrghouput {} vs {} expected\".format(avg[i], bandwidth[i]))\n",
    "\n",
    "# Calculeaza scorul pentru clasament. Acesta este media la cat am reusit sa acoperim din bandwidth in cele 3 scenarii.\n",
    "score_thrghouput = (avg[0]/bandwidth[0] + avg[1]/ bandwidth[1] + avg[2]/ bandwidth[2]) * 100\n",
    "print(\"+++++ Scorul pentru aceasta categorie: {} puncte\".format(score_thrghouput))\n",
    "\n",
    "# Deseneaza graficele thrghouput-ului. Linia orizontala rosie reprezinta valoarea asteptata.\n",
    "fig, axs = plt.subplots(ncols=3, figsize=(28, 8))\n",
    "for i in range(3):\n",
    "    plot_throughput2(axs[i], \"tmp/thr{}/0.dat\".format(i), bandwidth[i])\n",
    "plt.show()\n"
   ]
  },
  {
   "cell_type": "markdown",
   "id": "40334bc9-1d25-4bd8-be91-5ded159fdbc4",
   "metadata": {
    "tags": []
   },
   "source": [
    "## Fairness\n",
    "\n",
    "Vrem ca banda sa fie impartita corect intre mai multe conexiuni."
   ]
  },
  {
   "cell_type": "code",
   "execution_count": 11,
   "id": "a7693875-d8e4-4cfa-af83-c13fb631c4a2",
   "metadata": {
    "tags": []
   },
   "outputs": [
    {
     "name": "stdout",
     "output_type": "stream",
     "text": [
      "no_of_conns 4\n",
      "endtime(ms) 80000\n",
      "Log interval set to 100ms\n",
      "Queue size set to 800\n",
      "Latency set to 5\n",
      "Start delta to 500ms\n",
      "Outputting to logout.dat\n",
      "CCSinkLoggerSampling(p=0.1 init \n",
      "Start flow CCsrc 0 at 0s\n",
      ".Start flow CCsrc 1 at 0.5s\n",
      "Start flow CCsrc 2 at 1s\n",
      ".Start flow CCsrc 3 at 1.5s\n",
      "........|..........|..........|..........|..........|..........|..........|..........|..........|..........|..........|..........|..........|..........|....../scripts/parse.sh: line 2: $'\\r': command not found\n",
      "./scripts/parse.sh: line 6: $'\\r': command not found\n",
      ": No such file or directory tmp/fair0/\n",
      "sort: write failed: 'standard output': Broken pipe\n",
      "sort: write error\n",
      "' for reading: No such file or directoryipts/parse_bw.awk\n",
      "grep: write error: Broken pipe\n",
      "./scripts/parse.sh: line 9: $'\\r': command not found\n",
      ": No such file or directory: tmp/fair0/\n",
      "grep: write error: Broken pipe\n",
      "grep: write error: Broken pipe\n"
     ]
    },
    {
     "ename": "FileNotFoundError",
     "evalue": "[Errno 2] No such file or directory: 'tmp/fair0/0.dat'",
     "output_type": "error",
     "traceback": [
      "\u001b[0;31m---------------------------------------------------------------------------\u001b[0m",
      "\u001b[0;31mFileNotFoundError\u001b[0m                         Traceback (most recent call last)",
      "Cell \u001b[0;32mIn[11], line 19\u001b[0m\n\u001b[1;32m     16\u001b[0m avgs \u001b[38;5;241m=\u001b[39m []\n\u001b[1;32m     17\u001b[0m \u001b[38;5;28;01mfor\u001b[39;00m j \u001b[38;5;129;01min\u001b[39;00m \u001b[38;5;28mrange\u001b[39m(num_cons[i]):\n\u001b[1;32m     18\u001b[0m     \u001b[38;5;66;03m# 8/10000000 pentru a trece in Mbps\u001b[39;00m\n\u001b[0;32m---> 19\u001b[0m     avgs\u001b[38;5;241m.\u001b[39mappend(\u001b[43mavg_col\u001b[49m\u001b[43m(\u001b[49m\u001b[38;5;124;43m\"\u001b[39;49m\u001b[38;5;124;43mtmp/fair\u001b[39;49m\u001b[38;5;132;43;01m{}\u001b[39;49;00m\u001b[38;5;124;43m/\u001b[39;49m\u001b[38;5;132;43;01m{}\u001b[39;49;00m\u001b[38;5;124;43m.dat\u001b[39;49m\u001b[38;5;124;43m\"\u001b[39;49m\u001b[38;5;241;43m.\u001b[39;49m\u001b[43mformat\u001b[49m\u001b[43m(\u001b[49m\u001b[43mi\u001b[49m\u001b[43m,\u001b[49m\u001b[43m \u001b[49m\u001b[43mj\u001b[49m\u001b[43m)\u001b[49m\u001b[43m,\u001b[49m\u001b[43m \u001b[49m\u001b[38;5;241;43m12\u001b[39;49m\u001b[43m,\u001b[49m\u001b[43m \u001b[49m\u001b[38;5;241;43m8\u001b[39;49m\u001b[43m \u001b[49m\u001b[38;5;241;43m/\u001b[39;49m\u001b[43m \u001b[49m\u001b[38;5;241;43m1000000\u001b[39;49m\u001b[43m)\u001b[49m)\n\u001b[1;32m     21\u001b[0m fairness\u001b[38;5;241m.\u001b[39mappend(\u001b[38;5;28mmin\u001b[39m(avgs)\u001b[38;5;241m/\u001b[39m\u001b[38;5;28mmax\u001b[39m(avgs))\n\u001b[1;32m     22\u001b[0m \u001b[38;5;28mprint\u001b[39m(\u001b[38;5;124m\"\u001b[39m\u001b[38;5;130;01m\\n\u001b[39;00m\u001b[38;5;124m####### Min/Max average thrghouput: \u001b[39m\u001b[38;5;132;01m{}\u001b[39;00m\u001b[38;5;124m/\u001b[39m\u001b[38;5;132;01m{}\u001b[39;00m\u001b[38;5;124m\"\u001b[39m\u001b[38;5;241m.\u001b[39mformat(\u001b[38;5;28mmin\u001b[39m(avgs), \u001b[38;5;28mmax\u001b[39m(avgs)))\n",
      "Cell \u001b[0;32mIn[9], line 7\u001b[0m, in \u001b[0;36mavg_col\u001b[0;34m(data_path, col, scale)\u001b[0m\n\u001b[1;32m      5\u001b[0m \u001b[38;5;28;01mdef\u001b[39;00m \u001b[38;5;21mavg_col\u001b[39m(data_path, col, scale):\n\u001b[1;32m      6\u001b[0m         x1 \u001b[38;5;241m=\u001b[39m []\n\u001b[0;32m----> 7\u001b[0m         \u001b[38;5;28;01mwith\u001b[39;00m \u001b[38;5;28;43mopen\u001b[39;49m\u001b[43m(\u001b[49m\u001b[43mdata_path\u001b[49m\u001b[43m)\u001b[49m \u001b[38;5;28;01mas\u001b[39;00m f:\n\u001b[1;32m      8\u001b[0m             \u001b[38;5;28;01mfor\u001b[39;00m line \u001b[38;5;129;01min\u001b[39;00m f:\n\u001b[1;32m      9\u001b[0m                 values \u001b[38;5;241m=\u001b[39m line\u001b[38;5;241m.\u001b[39msplit()\n",
      "File \u001b[0;32m~/.local/lib/python3.10/site-packages/IPython/core/interactiveshell.py:324\u001b[0m, in \u001b[0;36m_modified_open\u001b[0;34m(file, *args, **kwargs)\u001b[0m\n\u001b[1;32m    317\u001b[0m \u001b[38;5;28;01mif\u001b[39;00m file \u001b[38;5;129;01min\u001b[39;00m {\u001b[38;5;241m0\u001b[39m, \u001b[38;5;241m1\u001b[39m, \u001b[38;5;241m2\u001b[39m}:\n\u001b[1;32m    318\u001b[0m     \u001b[38;5;28;01mraise\u001b[39;00m \u001b[38;5;167;01mValueError\u001b[39;00m(\n\u001b[1;32m    319\u001b[0m         \u001b[38;5;124mf\u001b[39m\u001b[38;5;124m\"\u001b[39m\u001b[38;5;124mIPython won\u001b[39m\u001b[38;5;124m'\u001b[39m\u001b[38;5;124mt let you open fd=\u001b[39m\u001b[38;5;132;01m{\u001b[39;00mfile\u001b[38;5;132;01m}\u001b[39;00m\u001b[38;5;124m by default \u001b[39m\u001b[38;5;124m\"\u001b[39m\n\u001b[1;32m    320\u001b[0m         \u001b[38;5;124m\"\u001b[39m\u001b[38;5;124mas it is likely to crash IPython. If you know what you are doing, \u001b[39m\u001b[38;5;124m\"\u001b[39m\n\u001b[1;32m    321\u001b[0m         \u001b[38;5;124m\"\u001b[39m\u001b[38;5;124myou can use builtins\u001b[39m\u001b[38;5;124m'\u001b[39m\u001b[38;5;124m open.\u001b[39m\u001b[38;5;124m\"\u001b[39m\n\u001b[1;32m    322\u001b[0m     )\n\u001b[0;32m--> 324\u001b[0m \u001b[38;5;28;01mreturn\u001b[39;00m \u001b[43mio_open\u001b[49m\u001b[43m(\u001b[49m\u001b[43mfile\u001b[49m\u001b[43m,\u001b[49m\u001b[43m \u001b[49m\u001b[38;5;241;43m*\u001b[39;49m\u001b[43margs\u001b[49m\u001b[43m,\u001b[49m\u001b[43m \u001b[49m\u001b[38;5;241;43m*\u001b[39;49m\u001b[38;5;241;43m*\u001b[39;49m\u001b[43mkwargs\u001b[49m\u001b[43m)\u001b[49m\n",
      "\u001b[0;31mFileNotFoundError\u001b[0m: [Errno 2] No such file or directory: 'tmp/fair0/0.dat'"
     ]
    }
   ],
   "source": [
    "# Urmatorul experiment verifica daca algoritmul imparte in mod egal banda intre mai multe conexiuni.\n",
    "num_cons = [4, 8, 16]\n",
    "# In MSS\n",
    "router_queue_size = 800\n",
    "latency = [5, 2, 10]\n",
    "fairness = []\n",
    "\n",
    "# Rulam pentru trei scenarii diferite\n",
    "for i in range(3):\n",
    "    data_folder = \"tmp/fair{}/\".format(i)\n",
    "    !mkdir -p {data_folder}\n",
    "    # Ruleaza experimentul cu num_cons[i] conexiuni.\n",
    "    ! ./htsim_dumbell_cc -conns {num_cons[i]} -end 80000 -log 100 -q {router_queue_size} -latency {latency[i]} \\\n",
    "    -startdelta 500; ./scripts/parse.sh logout.dat {data_folder}\n",
    "    \n",
    "    # Calculeaza raportul dintre throughput-ul cel mai mic al uneia dintre conexiuni cu cel mai mare. Ideal acesta ar trebui sa fie 1 pentru ca bandwidth-ul se imparte egal intre toate conexiunile\n",
    "    avgs = []\n",
    "    for j in range(num_cons[i]):\n",
    "        # 8/10000000 pentru a trece in Mbps\n",
    "        avgs.append(avg_col(\"tmp/fair{}/{}.dat\".format(i, j), 12, 8 / 1000000))\n",
    "\n",
    "    fairness.append(min(avgs)/max(avgs))\n",
    "    print(\"\\n####### Min/Max average thrghouput: {}/{}\".format(min(avgs), max(avgs)))\n",
    "\n",
    "score_fairness = (fairness[0] + fairness[1] + fairness[2]) / 3 * 100 * 3\n",
    "print(\"+++++ Scorul pentru aceasta categorie: {} puncte\".format(score_fairness))\n",
    "\n",
    "# Deseneaza thoughput-ul pentru conexiuni. Din figsize putem schimba dimensiunea figurilor.\n",
    "fig, axs = plt.subplots(ncols=3, figsize=(26, 8))\n",
    "for i in range(3):\n",
    "    plot_throughput_from_data(axs[i], 4, \"tmp/fair{}/\".format(i))\n",
    "plt.show()"
   ]
  },
  {
   "cell_type": "markdown",
   "id": "22c7e904-6159-4e95-8677-fec482173974",
   "metadata": {
    "tags": []
   },
   "source": [
    "## Latenta\n"
   ]
  },
  {
   "cell_type": "markdown",
   "id": "531f57e2-d4c1-42f7-b8ec-35ec4b7208d7",
   "metadata": {},
   "source": [
    "Vom masura latenta in functie de cat de incarcata este coada din router. Astfel, punctajul este acordat in functie de gradul de umplere al cozii."
   ]
  },
  {
   "cell_type": "code",
   "execution_count": 12,
   "id": "e024e51f-a503-4fdc-b0af-6565e534e566",
   "metadata": {
    "tags": []
   },
   "outputs": [
    {
     "name": "stdout",
     "output_type": "stream",
     "text": [
      "no_of_conns 2\n",
      "endtime(ms) 60000\n",
      "Log interval set to 100ms\n",
      "Queue size set to 16660\n",
      "Start delta to 200ms\n",
      "Latency set to 1\n",
      "Bandwidth set to 10Mbps\n",
      "Outputting to logout.dat\n",
      "CCSinkLoggerSampling(p=0.1 init \n",
      "Start flow CCsrc 0 at 0s\n",
      "Start flow CCsrc 1 at 0.2s\n",
      "..........|..........|..........|..........|..........|..........|..........|..........|..........|..........|........../scripts/parse.sh: line 2: $'\\r': command not found\n",
      "./scripts/parse.sh: line 6: $'\\r': command not found\n",
      ": No such file or directory tmp/lat0/\n",
      "sort: fflush failed: 'standard output': Broken pipe\n",
      "sort: write error\n",
      "' for reading: No such file or directoryipts/parse_bw.awk\n",
      "grep: write error: Broken pipe\n",
      "./scripts/parse.sh: line 9: $'\\r': command not found\n",
      ": No such file or directory: tmp/lat0/\n",
      "grep: write error: Broken pipe\n",
      "grep: write error: Broken pipe\n"
     ]
    },
    {
     "ename": "FileNotFoundError",
     "evalue": "[Errno 2] No such file or directory: 'tmp/lat0/q.dat'",
     "output_type": "error",
     "traceback": [
      "\u001b[0;31m---------------------------------------------------------------------------\u001b[0m",
      "\u001b[0;31mFileNotFoundError\u001b[0m                         Traceback (most recent call last)",
      "Cell \u001b[0;32mIn[12], line 19\u001b[0m\n\u001b[1;32m     17\u001b[0m     get_ipython()\u001b[38;5;241m.\u001b[39msystem(\u001b[38;5;124m'\u001b[39m\u001b[38;5;124m ./htsim_dumbell_cc -conns \u001b[39m\u001b[38;5;132;01m{num_cons[i]}\u001b[39;00m\u001b[38;5;124m -end 60000 -log 100 -q \u001b[39m\u001b[38;5;132;01m{queue_size_in_mss[i]}\u001b[39;00m\u001b[38;5;124m -startdelta 200          -latency \u001b[39m\u001b[38;5;132;01m{latency[i]}\u001b[39;00m\u001b[38;5;124m -bandwidth \u001b[39m\u001b[38;5;132;01m{bandwidth[i]}\u001b[39;00m\u001b[38;5;124m; ./scripts/parse.sh logout.dat \u001b[39m\u001b[38;5;132;01m{data_folder}\u001b[39;00m\u001b[38;5;124m'\u001b[39m)\n\u001b[1;32m     18\u001b[0m     \u001b[38;5;66;03m# Inmultim coloana 12 (numarul de bytes in buffer-ul routerului) cu1/1500 pentru ca vrem sa masuram in MSS (1500 de bytes)\u001b[39;00m\n\u001b[0;32m---> 19\u001b[0m     avgs\u001b[38;5;241m.\u001b[39mappend(\u001b[43mavg_col\u001b[49m\u001b[43m(\u001b[49m\u001b[38;5;124;43m\"\u001b[39;49m\u001b[38;5;124;43mtmp/lat\u001b[39;49m\u001b[38;5;132;43;01m{}\u001b[39;49;00m\u001b[38;5;124;43m/q.dat\u001b[39;49m\u001b[38;5;124;43m\"\u001b[39;49m\u001b[38;5;241;43m.\u001b[39;49m\u001b[43mformat\u001b[49m\u001b[43m(\u001b[49m\u001b[43mi\u001b[49m\u001b[43m)\u001b[49m\u001b[43m,\u001b[49m\u001b[43m \u001b[49m\u001b[38;5;241;43m12\u001b[39;49m\u001b[43m,\u001b[49m\u001b[43m \u001b[49m\u001b[38;5;241;43m1\u001b[39;49m\u001b[38;5;241;43m/\u001b[39;49m\u001b[38;5;241;43m1500\u001b[39;49m\u001b[43m)\u001b[49m)\n\u001b[1;32m     21\u001b[0m score_latency \u001b[38;5;241m=\u001b[39m \u001b[38;5;241m300\u001b[39m \u001b[38;5;241m-\u001b[39m (avgs[\u001b[38;5;241m0\u001b[39m] \u001b[38;5;241m/\u001b[39m queue_size_in_mss[\u001b[38;5;241m0\u001b[39m] \u001b[38;5;241m*\u001b[39m \u001b[38;5;241m100\u001b[39m \u001b[38;5;241m+\u001b[39m avgs[\u001b[38;5;241m1\u001b[39m] \u001b[38;5;241m/\u001b[39m queue_size_in_mss[\u001b[38;5;241m1\u001b[39m] \u001b[38;5;241m*\u001b[39m \u001b[38;5;241m100\u001b[39m \u001b[38;5;241m+\u001b[39m avgs[\u001b[38;5;241m2\u001b[39m] \u001b[38;5;241m/\u001b[39m queue_size_in_mss[\u001b[38;5;241m2\u001b[39m] \u001b[38;5;241m*\u001b[39m \u001b[38;5;241m100\u001b[39m)\n\u001b[1;32m     22\u001b[0m \u001b[38;5;28mprint\u001b[39m(\u001b[38;5;124m\"\u001b[39m\u001b[38;5;130;01m\\n\u001b[39;00m\u001b[38;5;124m+++++ Scorul pentru aceasta categorie: \u001b[39m\u001b[38;5;132;01m{}\u001b[39;00m\u001b[38;5;124m puncte\u001b[39m\u001b[38;5;124m\"\u001b[39m\u001b[38;5;241m.\u001b[39mformat(score_latency))\n",
      "Cell \u001b[0;32mIn[9], line 7\u001b[0m, in \u001b[0;36mavg_col\u001b[0;34m(data_path, col, scale)\u001b[0m\n\u001b[1;32m      5\u001b[0m \u001b[38;5;28;01mdef\u001b[39;00m \u001b[38;5;21mavg_col\u001b[39m(data_path, col, scale):\n\u001b[1;32m      6\u001b[0m         x1 \u001b[38;5;241m=\u001b[39m []\n\u001b[0;32m----> 7\u001b[0m         \u001b[38;5;28;01mwith\u001b[39;00m \u001b[38;5;28;43mopen\u001b[39;49m\u001b[43m(\u001b[49m\u001b[43mdata_path\u001b[49m\u001b[43m)\u001b[49m \u001b[38;5;28;01mas\u001b[39;00m f:\n\u001b[1;32m      8\u001b[0m             \u001b[38;5;28;01mfor\u001b[39;00m line \u001b[38;5;129;01min\u001b[39;00m f:\n\u001b[1;32m      9\u001b[0m                 values \u001b[38;5;241m=\u001b[39m line\u001b[38;5;241m.\u001b[39msplit()\n",
      "File \u001b[0;32m~/.local/lib/python3.10/site-packages/IPython/core/interactiveshell.py:324\u001b[0m, in \u001b[0;36m_modified_open\u001b[0;34m(file, *args, **kwargs)\u001b[0m\n\u001b[1;32m    317\u001b[0m \u001b[38;5;28;01mif\u001b[39;00m file \u001b[38;5;129;01min\u001b[39;00m {\u001b[38;5;241m0\u001b[39m, \u001b[38;5;241m1\u001b[39m, \u001b[38;5;241m2\u001b[39m}:\n\u001b[1;32m    318\u001b[0m     \u001b[38;5;28;01mraise\u001b[39;00m \u001b[38;5;167;01mValueError\u001b[39;00m(\n\u001b[1;32m    319\u001b[0m         \u001b[38;5;124mf\u001b[39m\u001b[38;5;124m\"\u001b[39m\u001b[38;5;124mIPython won\u001b[39m\u001b[38;5;124m'\u001b[39m\u001b[38;5;124mt let you open fd=\u001b[39m\u001b[38;5;132;01m{\u001b[39;00mfile\u001b[38;5;132;01m}\u001b[39;00m\u001b[38;5;124m by default \u001b[39m\u001b[38;5;124m\"\u001b[39m\n\u001b[1;32m    320\u001b[0m         \u001b[38;5;124m\"\u001b[39m\u001b[38;5;124mas it is likely to crash IPython. If you know what you are doing, \u001b[39m\u001b[38;5;124m\"\u001b[39m\n\u001b[1;32m    321\u001b[0m         \u001b[38;5;124m\"\u001b[39m\u001b[38;5;124myou can use builtins\u001b[39m\u001b[38;5;124m'\u001b[39m\u001b[38;5;124m open.\u001b[39m\u001b[38;5;124m\"\u001b[39m\n\u001b[1;32m    322\u001b[0m     )\n\u001b[0;32m--> 324\u001b[0m \u001b[38;5;28;01mreturn\u001b[39;00m \u001b[43mio_open\u001b[49m\u001b[43m(\u001b[49m\u001b[43mfile\u001b[49m\u001b[43m,\u001b[49m\u001b[43m \u001b[49m\u001b[38;5;241;43m*\u001b[39;49m\u001b[43margs\u001b[49m\u001b[43m,\u001b[49m\u001b[43m \u001b[49m\u001b[38;5;241;43m*\u001b[39;49m\u001b[38;5;241;43m*\u001b[39;49m\u001b[43mkwargs\u001b[49m\u001b[43m)\u001b[49m\n",
      "\u001b[0;31mFileNotFoundError\u001b[0m: [Errno 2] No such file or directory: 'tmp/lat0/q.dat'"
     ]
    }
   ],
   "source": [
    "# Acest experiment masoara latenta per pachet introdusa de algoritmul de congestion control. Cu cat avem o coada mai mare de pachete ce asteapta la router\n",
    "# cu atat latenta va creste.\n",
    "\n",
    "MSS = 1500 # in bytes\n",
    "latency = [1, 1, 1] # ms\n",
    "bandwidth = [10, 50, 100] # Mbs\n",
    "bdp = [ (i * j * 2 ) for i, j in zip(latency, bandwidth)]\n",
    "# Coada din router o sa aiba 10 BDP\n",
    "queue_size_in_mss = [ int(i * 1000000 / (MSS * 8)) * 10 for i in bdp]\n",
    "num_cons = [2, 4, 3]\n",
    "avgs = []\n",
    "\n",
    "# Rulam pentru trei scenarii diferite\n",
    "for i in range(3):\n",
    "    data_folder = \"tmp/lat{}/\".format(i)\n",
    "    !mkdir -p {data_folder}\n",
    "    ! ./htsim_dumbell_cc -conns {num_cons[i]} -end 60000 -log 100 -q {queue_size_in_mss[i]} -startdelta 200 \\\n",
    "        -latency {latency[i]} -bandwidth {bandwidth[i]}; ./scripts/parse.sh logout.dat {data_folder}\n",
    "    # Inmultim coloana 12 (numarul de bytes in buffer-ul routerului) cu1/1500 pentru ca vrem sa masuram in MSS (1500 de bytes)\n",
    "    avgs.append(avg_col(\"tmp/lat{}/q.dat\".format(i), 12, 1/1500))\n",
    "\n",
    "score_latency = 300 - (avgs[0] / queue_size_in_mss[0] * 100 + avgs[1] / queue_size_in_mss[1] * 100 + avgs[2] / queue_size_in_mss[2] * 100)\n",
    "print(\"\\n+++++ Scorul pentru aceasta categorie: {} puncte\".format(score_latency))\n",
    "\n",
    "# Deseneaza numarul de pachete in coada. Linia orizontala reprezinta dimensiunea maxima in MSS a cozii ruterului.\n",
    "fig, axs = plt.subplots(ncols=3, figsize=(26, 8))\n",
    "for i in range(3):\n",
    "    plot_router_queue(axs[i], queue_size_in_mss[i], \"tmp/lat{}/\".format(i))\n",
    "plt.show()"
   ]
  },
  {
   "cell_type": "markdown",
   "id": "99680b54-b7e2-4958-8419-316b230ef8cd",
   "metadata": {
    "tags": []
   },
   "source": [
    "# Evlauarea proiectului\n",
    "\n",
    "Coordonatorul de echipa va incarca arhiva rezultata in urma rularii `create_archive.sh` pe Moodle. Arhiva va include un fisier `team.secret` cu ID-ul secret pe care\n",
    "l-ati pus la inscriere si un writeup in format pdf. Nota finala la proiect va fi calculata la final in functie de pozitia in clasament si rezultatele la cele trei categorii."
   ]
  },
  {
   "cell_type": "code",
   "execution_count": 13,
   "id": "9b14851e-017f-4a78-9b66-5c302a1d34f2",
   "metadata": {
    "tags": []
   },
   "outputs": [
    {
     "ename": "NameError",
     "evalue": "name 'score_thrghouput' is not defined",
     "output_type": "error",
     "traceback": [
      "\u001b[0;31m---------------------------------------------------------------------------\u001b[0m",
      "\u001b[0;31mNameError\u001b[0m                                 Traceback (most recent call last)",
      "Cell \u001b[0;32mIn[13], line 1\u001b[0m\n\u001b[0;32m----> 1\u001b[0m scor_total \u001b[38;5;241m=\u001b[39m \u001b[43mscore_thrghouput\u001b[49m \u001b[38;5;241m+\u001b[39m score_fairness \u001b[38;5;241m+\u001b[39m score_latency\n\u001b[1;32m      2\u001b[0m \u001b[38;5;28mprint\u001b[39m(\u001b[38;5;124m\"\u001b[39m\u001b[38;5;124mScor total \u001b[39m\u001b[38;5;132;01m{}\u001b[39;00m\u001b[38;5;124m/900\u001b[39m\u001b[38;5;124m\"\u001b[39m\u001b[38;5;241m.\u001b[39mformat(scor_total))\n",
      "\u001b[0;31mNameError\u001b[0m: name 'score_thrghouput' is not defined"
     ]
    }
   ],
   "source": [
    "scor_total = score_thrghouput + score_fairness + score_latency\n",
    "print(\"Scor total {}/900\".format(scor_total))"
   ]
  },
  {
   "cell_type": "code",
   "execution_count": null,
   "id": "5352aa07-2b62-4340-a16b-76506b8cb93d",
   "metadata": {},
   "outputs": [],
   "source": []
  },
  {
   "cell_type": "code",
   "execution_count": null,
   "id": "c6590d9e-fcb6-4ef5-8957-79de0fe9d82a",
   "metadata": {},
   "outputs": [],
   "source": []
  },
  {
   "cell_type": "code",
   "execution_count": null,
   "id": "a2e28ec5-d588-4916-997a-2e0a41eb6c2a",
   "metadata": {},
   "outputs": [],
   "source": []
  },
  {
   "cell_type": "code",
   "execution_count": null,
   "id": "22c5ab0f-23ab-4786-8355-82248beb0486",
   "metadata": {},
   "outputs": [],
   "source": []
  },
  {
   "cell_type": "code",
   "execution_count": null,
   "id": "20752c1d-24dd-4f73-a6ba-499273ab4718",
   "metadata": {},
   "outputs": [],
   "source": []
  }
 ],
 "metadata": {
  "kernelspec": {
   "display_name": "Python 3 (ipykernel)",
   "language": "python",
   "name": "python3"
  },
  "language_info": {
   "codemirror_mode": {
    "name": "ipython",
    "version": 3
   },
   "file_extension": ".py",
   "mimetype": "text/x-python",
   "name": "python",
   "nbconvert_exporter": "python",
   "pygments_lexer": "ipython3",
   "version": "3.10.6"
  }
 },
 "nbformat": 4,
 "nbformat_minor": 5
}
